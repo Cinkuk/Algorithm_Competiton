{
 "cells": [
  {
   "cell_type": "code",
   "execution_count": 10,
   "id": "7f3a4298",
   "metadata": {},
   "outputs": [
    {
     "name": "stdout",
     "output_type": "stream",
     "text": [
      "55\n",
      "55\n",
      "55\n"
     ]
    }
   ],
   "source": [
    "def classic_fib(n):\n",
    "    if n == 1 or n == 2:\n",
    "        return 1\n",
    "    return classic_fib(n-1) + classic_fib(n-2)\n",
    "\n",
    "memo = dict()\n",
    "def memo_fib(n):\n",
    "    global memo\n",
    "    if n == 1 or n == 2:\n",
    "        return 1\n",
    "    elif n in memo.keys():\n",
    "        return memo[n]\n",
    "    memo[n] = memo_fib(n-1) + memo_fib(n-2)\n",
    "    return memo[n]\n",
    "\n",
    "def dp_fib(n):\n",
    "    dp = list()\n",
    "    dp.append(1)\n",
    "    dp.append(1)\n",
    "    for i in range(2, n):\n",
    "        dp.append(dp[i-2] + dp[i-1])\n",
    "    return dp[-1]\n",
    "\n",
    "\n",
    "n = 10\n",
    "print(classic_fib(n))\n",
    "print(memo_fib(n))\n",
    "print(dp_fib(n))"
   ]
  },
  {
   "cell_type": "code",
   "execution_count": null,
   "id": "4d8456f7",
   "metadata": {},
   "outputs": [
    {
     "name": "stdout",
     "output_type": "stream",
     "text": [
      "3\n",
      "4\n",
      "6\n"
     ]
    }
   ],
   "source": [
    "def swap(a, b):\n",
    "    return b, a\n",
    "\n",
    "while True:\n",
    "    N, M = map(int, input().split())\n",
    "    if N == 0 and M == 0:\n",
    "        break\n",
    "\n",
    "    a = [None for _ in range(N)]\n",
    "    for i in range(N):\n",
    "        line = list(map(int, input().split()))\n",
    "        a[i] = line\n",
    "    \n",
    "    dp = [[0 for _ in range(M+1)]for _ in range(2)]\n",
    "    new = 0\n",
    "    old = 1\n",
    "    for i in range(N):\n",
    "        new, old = swap(new, old)\n",
    "        for j in range(M+1):\n",
    "            for k in range(1, M+1):\n",
    "                # 背包更新至学习j天, 矩阵遍历到学习k天, k必须<=j\n",
    "                if k > j:\n",
    "                    break\n",
    "                else:\n",
    "                    dp[new][j] = max(dp[old][j], dp[old][j-k] + a[i][k-1], dp[new][j-1], dp[new][j])\n",
    "    \n",
    "    print(dp[new][M])"
   ]
  },
  {
   "cell_type": "code",
   "execution_count": 2,
   "id": "0ba1b382",
   "metadata": {},
   "outputs": [
    {
     "name": "stdout",
     "output_type": "stream",
     "text": [
      "[0, 0, 0, 0, 0, 0, 0, 0, 0, 0, 0]\n",
      "[0, 0, 0, 0, 0, 1, 1, 1, 1, 1, 1]\n",
      "[0, 0, 0, 0, 2, 2, 2, 2, 2, 3, 3]\n",
      "[0, 0, 0, 3, 3, 3, 3, 5, 5, 5, 5]\n",
      "[0, 0, 4, 4, 4, 7, 7, 7, 7, 9, 9]\n",
      "[0, 5, 5, 9, 9, 9, 12, 12, 12, 12, 14]\n",
      "\n",
      "final result: 14\n"
     ]
    }
   ],
   "source": [
    "cases = int(input())\n",
    "\n",
    "for case in range(cases):\n",
    "    N, C = map(int, input().split())\n",
    "    vs = list(map(int, input().split()))\n",
    "    cs = list(map(int, input().split())) \n",
    "    dp = [[0 for _ in range(C+1)]for _ in range(N+1)]\n",
    "    # fill dp table, skip the first line\n",
    "    for i in range(1, N+1):\n",
    "        v = vs[i-1]\n",
    "        c = cs[i-1]\n",
    "        for j in range(C+1):\n",
    "            # judge \n",
    "            if c > j:\n",
    "                dp[i][j] = dp[i-1][j]\n",
    "            else:\n",
    "                dp[i][j] = max(dp[i-1][j], dp[i-1][j-c] + v)\n",
    "    \n",
    "    for line in range(N+1):\n",
    "        print(dp[line])\n",
    "    print(f'\\nfinal result: {dp[N][C]}')"
   ]
  },
  {
   "cell_type": "code",
   "execution_count": null,
   "id": "651710ff",
   "metadata": {},
   "outputs": [
    {
     "name": "stdout",
     "output_type": "stream",
     "text": [
      "[0, 0, 0, 0, 0, 0, 0, 0, 0, 0, 0]\n",
      "[0, 0, 0, 0, 0, 1, 1, 1, 1, 1, 1]\n",
      "[0, 0, 0, 0, 2, 2, 2, 2, 2, 3, 3]\n",
      "[0, 0, 0, 3, 3, 3, 3, 5, 5, 5, 5]\n",
      "[0, 0, 4, 4, 4, 7, 7, 7, 7, 9, 9]\n",
      "[0, 5, 5, 9, 9, 9, 12, 12, 12, 12, 14]\n",
      "\n",
      "final result: 14\n"
     ]
    }
   ],
   "source": [
    "cases = int(input())\n",
    "\n",
    "def cal_dp(i, j, c=0, v=0):\n",
    "    global dp\n",
    "    if i == 0 or j == 0:\n",
    "        return 0\n",
    "    if dp[i][j] != 0:\n",
    "        return dp[i][j]\n",
    "    if c > j:\n",
    "        return cal_dp(i-1, j)\n",
    "    else:\n",
    "        ans = max(cal_dp(i-1, j-c) + v, cal_dp(i-1, j))\n",
    "        dp[i][j] = ans\n",
    "        return ans\n",
    "\n",
    "for case in range(cases):\n",
    "    N, C = map(int, input().split())\n",
    "    vs = list(map(int, input().split()))\n",
    "    cs = list(map(int, input().split())) \n",
    "    dp = [[0 for _ in range(C+1)]for _ in range(N+1)]\n",
    "    for i in range(1, N+1):\n",
    "        c = cs[i-1]\n",
    "        v = vs[i-1]\n",
    "        for j in range(C+1):\n",
    "            dp[i][j] = cal_dp(i, j, c, v)\n",
    "\n",
    "\n",
    "    for line in range(N+1):\n",
    "        print(dp[line])\n",
    "    print(f'\\nfinal result: {dp[N][C]}')"
   ]
  },
  {
   "cell_type": "code",
   "execution_count": 2,
   "id": "fdffa253",
   "metadata": {},
   "outputs": [
    {
     "name": "stdout",
     "output_type": "stream",
     "text": [
      "4\n"
     ]
    }
   ],
   "source": [
    "a, b = map(str, input().split())\n",
    "m, n = len(a), len(b)\n",
    "dp = [[0 for _ in range(n+1)]for _ in range(m+1)]\n",
    "\n",
    "for i in range(m):\n",
    "    for j in range(n):\n",
    "        if a[i] == b[j]:\n",
    "            dp[i+1][j+1] = dp[i][j] + 1\n",
    "        else:\n",
    "            dp[i+1][j+1] = max(dp[i+1][j], dp[i][j+1])\n",
    "\n",
    "print(dp[m][n])"
   ]
  },
  {
   "cell_type": "code",
   "execution_count": 3,
   "id": "6ee6f925",
   "metadata": {},
   "outputs": [
    {
     "name": "stdout",
     "output_type": "stream",
     "text": [
      "6\n"
     ]
    }
   ],
   "source": [
    "a = list(map(int, input().split()))\n",
    "n = len(a)\n",
    "dp = [1 for _ in range(n)]\n",
    "\n",
    "for i in range(n):\n",
    "    for j in range(i):\n",
    "        if a[j] >= a[i]:\n",
    "            dp[i] = max(dp[i], dp[j] + 1)\n",
    "\n",
    "print(dp[-1])"
   ]
  },
  {
   "cell_type": "code",
   "execution_count": null,
   "id": "f71e8321",
   "metadata": {},
   "outputs": [],
   "source": [
    "a = list(map(int, input().split()))\n",
    "total = sum(a)\n",
    "edge = int(total / 2)\n",
    "n = len(a) \n",
    "dp = [[0 for _ in range(edge + 1)]for _ in range(n+1)]\n",
    "for i in range(1, n+1):\n",
    "    for j in range(edge+1):\n",
    "        if a[i-1] <= j:\n",
    "            dp[i][j] = max(dp[i-1][j], dp[i-1][j - a[i-1]] + a[i-1])\n",
    "        else:\n",
    "            dp[i][j] = dp[i-1][j]\n",
    "\n",
    "sum1 = dp[n][edge]\n",
    "ans = abs(2 * sum1 - total)\n",
    "print(ans)\n"
   ]
  },
  {
   "cell_type": "code",
   "execution_count": null,
   "id": "474cca18",
   "metadata": {},
   "outputs": [
    {
     "name": "stdout",
     "output_type": "stream",
     "text": [
      "1\n",
      "1\n",
      "2\n",
      "4\n",
      "7\n",
      "13\n",
      "24\n",
      "44\n",
      "81\n",
      "149\n"
     ]
    }
   ],
   "source": [
    "n = int(input())\n",
    "# 统一并简化初始化dp表格代码\n",
    "_n = n if n >= 2 else 2\n",
    "dp = [0 for _ in range(_n+1)]\n",
    "dp[0] = 1\n",
    "dp[1] = 1\n",
    "dp[2] = 2\n",
    "for i in range(3, n+1):\n",
    "    dp[i] = dp[i-1] + dp[i-2] + dp[i-3]\n",
    "print(dp[n])"
   ]
  },
  {
   "cell_type": "code",
   "execution_count": 14,
   "id": "d6e2f77f",
   "metadata": {},
   "outputs": [
    {
     "name": "stdout",
     "output_type": "stream",
     "text": [
      "True\n",
      "index: 1, value: 2\n",
      "index: 4, value: 3\n"
     ]
    }
   ],
   "source": [
    "def judge(a, b):\n",
    "    return a or b\n",
    "\n",
    "s = list(map(int, input().split()))\n",
    "n = len(s)\n",
    "M = int(input())\n",
    "dp = [[False for _ in range(M+1)]for _ in range(n+1)]\n",
    "dp[0][0] = True\n",
    "\n",
    "for i in range(1, n+1):\n",
    "    for j in range(M+1):\n",
    "        if s[i-1] <= j:\n",
    "            dp[i][j] = judge(dp[i-1][j], dp[i-1][j-s[i-1]])\n",
    "        else:\n",
    "            dp[i][j] = dp[i-1][j]\n",
    "\n",
    "# output conclusion\n",
    "print(dp[n][M])\n",
    "#for item in dp:\n",
    "#    print(item)\n",
    "# rebuild trace\n",
    "rst = []\n",
    "while M > 0:\n",
    "    i = n\n",
    "    while i > 0:\n",
    "        # 寻找实际选入的元素\n",
    "        if dp[i][M]:\n",
    "            # 第i个元素大于M, 未被实际选入, 继续回溯\n",
    "            if s[i-1] > M:\n",
    "                i -= 1\n",
    "            # 选入\n",
    "            else:\n",
    "                rst.append((i-1, s[i-1]))\n",
    "                M -= s[i-1]\n",
    "                break\n",
    "rst.reverse()\n",
    "for item in rst:\n",
    "    print(f'index: {item[0]}, value: {item[1]}')\n"
   ]
  },
  {
   "cell_type": "code",
   "execution_count": 17,
   "id": "2acefc59",
   "metadata": {},
   "outputs": [
    {
     "name": "stdout",
     "output_type": "stream",
     "text": [
      "22\n",
      "[8, 15, 11, 22]\n",
      "[0, 15, 15, 18]\n",
      "[0, 0, 3, 7]\n",
      "[0, 0, 0, 7]\n"
     ]
    }
   ],
   "source": [
    "v = list(map(int, input().split()))\n",
    "n = len(v)\n",
    "dp = [[0 for _ in range(n)]for _ in range(n)]\n",
    "\n",
    "for i in range(n-1, -1, -1):\n",
    "    for j in range(n):\n",
    "        if i > j:\n",
    "            continue\n",
    "        if i == j:\n",
    "            dp[i][j] = v[i]\n",
    "        elif j - i + 1 == 2:\n",
    "            dp[i][j] = max(v[i : j+1])\n",
    "        else:\n",
    "            dp[i][j] = max(v[i] + min(dp[i+2][j], dp[i+1][j-1]),\n",
    "                            v[j] + min(dp[i+1][j-1], dp[i][j-2]))\n",
    "\n",
    "print(dp[0][n-1])\n",
    "for line in dp:\n",
    "    print(line)"
   ]
  },
  {
   "cell_type": "code",
   "execution_count": 19,
   "id": "bedaabd0",
   "metadata": {},
   "outputs": [
    {
     "name": "stdout",
     "output_type": "stream",
     "text": [
      "乘法次数: 26000\n",
      "((40*20 (20*30 30*10)) 10*30)\n"
     ]
    }
   ],
   "source": [
    "p = list(map(int, input().split()))\n",
    "n = len(p) - 1 # amount of matries\n",
    "dp = [[0 for _ in range(n)]for _ in range(n)]\n",
    "s = [[0 for _ in range(n)]for _ in range(n)] # split point\n",
    "\n",
    "for l in range(2, n+1): # 区间长度\n",
    "    for i in range(n - l + 1): # 区间起点\n",
    "        j = i + l - 1 # 区间终点\n",
    "        dp[i][j] = float('inf') # 初始化为极大值\n",
    "        for k in range(i, j): # 逐点划分\n",
    "            cost = dp[i][k] + dp[k+1][j] + p[i] * p[k+1] * p[j+1] # 计算乘法次数\n",
    "            if cost < dp[i][j]:\n",
    "                dp[i][j] = cost\n",
    "                s[i][j] = k # 记录划分点\n",
    "# 递归输出括号方案\n",
    "def build(i, j):\n",
    "    global dp\n",
    "    if i == j:\n",
    "        return f'{p[i]}*{p[i+1]}'\n",
    "    else:\n",
    "        k = s[i][j]\n",
    "        left = build(i, k)\n",
    "        right = build(k+1, j)\n",
    "        return f'({left} {right})'\n",
    "    \n",
    "print('乘法次数:', dp[0][n-1])\n",
    "print(build(0, n-1))\n",
    "#print(dp[0][n-1])\n"
   ]
  }
 ],
 "metadata": {
  "kernelspec": {
   "display_name": "Python 3",
   "language": "python",
   "name": "python3"
  },
  "language_info": {
   "codemirror_mode": {
    "name": "ipython",
    "version": 3
   },
   "file_extension": ".py",
   "mimetype": "text/x-python",
   "name": "python",
   "nbconvert_exporter": "python",
   "pygments_lexer": "ipython3",
   "version": "3.12.9"
  }
 },
 "nbformat": 4,
 "nbformat_minor": 5
}
