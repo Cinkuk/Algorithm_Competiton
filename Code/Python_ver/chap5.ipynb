{
 "cells": [
  {
   "cell_type": "code",
   "execution_count": 10,
   "id": "7f3a4298",
   "metadata": {},
   "outputs": [
    {
     "name": "stdout",
     "output_type": "stream",
     "text": [
      "55\n",
      "55\n",
      "55\n"
     ]
    }
   ],
   "source": [
    "def classic_fib(n):\n",
    "    if n == 1 or n == 2:\n",
    "        return 1\n",
    "    return classic_fib(n-1) + classic_fib(n-2)\n",
    "\n",
    "memo = dict()\n",
    "def memo_fib(n):\n",
    "    global memo\n",
    "    if n == 1 or n == 2:\n",
    "        return 1\n",
    "    elif n in memo.keys():\n",
    "        return memo[n]\n",
    "    memo[n] = memo_fib(n-1) + memo_fib(n-2)\n",
    "    return memo[n]\n",
    "\n",
    "def dp_fib(n):\n",
    "    dp = list()\n",
    "    dp.append(1)\n",
    "    dp.append(1)\n",
    "    for i in range(2, n):\n",
    "        dp.append(dp[i-2] + dp[i-1])\n",
    "    return dp[-1]\n",
    "\n",
    "\n",
    "n = 10\n",
    "print(classic_fib(n))\n",
    "print(memo_fib(n))\n",
    "print(dp_fib(n))"
   ]
  }
 ],
 "metadata": {
  "kernelspec": {
   "display_name": "Python 3",
   "language": "python",
   "name": "python3"
  },
  "language_info": {
   "codemirror_mode": {
    "name": "ipython",
    "version": 3
   },
   "file_extension": ".py",
   "mimetype": "text/x-python",
   "name": "python",
   "nbconvert_exporter": "python",
   "pygments_lexer": "ipython3",
   "version": "3.12.9"
  }
 },
 "nbformat": 4,
 "nbformat_minor": 5
}
