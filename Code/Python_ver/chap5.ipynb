{
 "cells": [
  {
   "cell_type": "code",
   "execution_count": 10,
   "id": "7f3a4298",
   "metadata": {},
   "outputs": [
    {
     "name": "stdout",
     "output_type": "stream",
     "text": [
      "55\n",
      "55\n",
      "55\n"
     ]
    }
   ],
   "source": [
    "def classic_fib(n):\n",
    "    if n == 1 or n == 2:\n",
    "        return 1\n",
    "    return classic_fib(n-1) + classic_fib(n-2)\n",
    "\n",
    "memo = dict()\n",
    "def memo_fib(n):\n",
    "    global memo\n",
    "    if n == 1 or n == 2:\n",
    "        return 1\n",
    "    elif n in memo.keys():\n",
    "        return memo[n]\n",
    "    memo[n] = memo_fib(n-1) + memo_fib(n-2)\n",
    "    return memo[n]\n",
    "\n",
    "def dp_fib(n):\n",
    "    dp = list()\n",
    "    dp.append(1)\n",
    "    dp.append(1)\n",
    "    for i in range(2, n):\n",
    "        dp.append(dp[i-2] + dp[i-1])\n",
    "    return dp[-1]\n",
    "\n",
    "\n",
    "n = 10\n",
    "print(classic_fib(n))\n",
    "print(memo_fib(n))\n",
    "print(dp_fib(n))"
   ]
  },
  {
   "cell_type": "code",
   "execution_count": 2,
   "id": "0ba1b382",
   "metadata": {},
   "outputs": [
    {
     "name": "stdout",
     "output_type": "stream",
     "text": [
      "[0, 0, 0, 0, 0, 0, 0, 0, 0, 0, 0]\n",
      "[0, 0, 0, 0, 0, 1, 1, 1, 1, 1, 1]\n",
      "[0, 0, 0, 0, 2, 2, 2, 2, 2, 3, 3]\n",
      "[0, 0, 0, 3, 3, 3, 3, 5, 5, 5, 5]\n",
      "[0, 0, 4, 4, 4, 7, 7, 7, 7, 9, 9]\n",
      "[0, 5, 5, 9, 9, 9, 12, 12, 12, 12, 14]\n",
      "\n",
      "final result: 14\n"
     ]
    }
   ],
   "source": [
    "cases = int(input())\n",
    "\n",
    "for case in range(cases):\n",
    "    N, C = map(int, input().split())\n",
    "    vs = list(map(int, input().split()))\n",
    "    cs = list(map(int, input().split())) \n",
    "    dp = [[0 for _ in range(C+1)]for _ in range(N+1)]\n",
    "    # fill dp table, skip the first line\n",
    "    for i in range(1, N+1):\n",
    "        v = vs[i-1]\n",
    "        c = cs[i-1]\n",
    "        for j in range(C+1):\n",
    "            # judge \n",
    "            if c > j:\n",
    "                dp[i][j] = dp[i-1][j]\n",
    "            else:\n",
    "                dp[i][j] = max(dp[i-1][j], dp[i-1][j-c] + v)\n",
    "    \n",
    "    for line in range(N+1):\n",
    "        print(dp[line])\n",
    "    print(f'\\nfinal result: {dp[N][C]}')"
   ]
  },
  {
   "cell_type": "code",
   "execution_count": null,
   "id": "651710ff",
   "metadata": {},
   "outputs": [
    {
     "name": "stdout",
     "output_type": "stream",
     "text": [
      "[0, 0, 0, 0, 0, 0, 0, 0, 0, 0, 0]\n",
      "[0, 0, 0, 0, 0, 1, 1, 1, 1, 1, 1]\n",
      "[0, 0, 0, 0, 2, 2, 2, 2, 2, 3, 3]\n",
      "[0, 0, 0, 3, 3, 3, 3, 5, 5, 5, 5]\n",
      "[0, 0, 4, 4, 4, 7, 7, 7, 7, 9, 9]\n",
      "[0, 5, 5, 9, 9, 9, 12, 12, 12, 12, 14]\n",
      "\n",
      "final result: 14\n"
     ]
    }
   ],
   "source": [
    "cases = int(input())\n",
    "\n",
    "def cal_dp(i, j, c=0, v=0):\n",
    "    global dp\n",
    "    if i == 0 or j == 0:\n",
    "        return 0\n",
    "    if dp[i][j] != 0:\n",
    "        return dp[i][j]\n",
    "    if c > j:\n",
    "        return cal_dp(i-1, j)\n",
    "    else:\n",
    "        ans = max(cal_dp(i-1, j-c) + v, cal_dp(i-1, j))\n",
    "        dp[i][j] = ans\n",
    "        return ans\n",
    "\n",
    "for case in range(cases):\n",
    "    N, C = map(int, input().split())\n",
    "    vs = list(map(int, input().split()))\n",
    "    cs = list(map(int, input().split())) \n",
    "    dp = [[0 for _ in range(C+1)]for _ in range(N+1)]\n",
    "    for i in range(1, N+1):\n",
    "        c = cs[i-1]\n",
    "        v = vs[i-1]\n",
    "        for j in range(C+1):\n",
    "            dp[i][j] = cal_dp(i, j, c, v)\n",
    "\n",
    "\n",
    "    for line in range(N+1):\n",
    "        print(dp[line])\n",
    "    print(f'\\nfinal result: {dp[N][C]}')"
   ]
  }
 ],
 "metadata": {
  "kernelspec": {
   "display_name": "Python 3",
   "language": "python",
   "name": "python3"
  },
  "language_info": {
   "codemirror_mode": {
    "name": "ipython",
    "version": 3
   },
   "file_extension": ".py",
   "mimetype": "text/x-python",
   "name": "python",
   "nbconvert_exporter": "python",
   "pygments_lexer": "ipython3",
   "version": "3.12.9"
  }
 },
 "nbformat": 4,
 "nbformat_minor": 5
}
