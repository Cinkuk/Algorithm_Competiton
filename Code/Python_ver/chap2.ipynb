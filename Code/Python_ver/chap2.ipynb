{
 "cells": [
  {
   "cell_type": "code",
   "execution_count": 2,
   "metadata": {},
   "outputs": [
    {
     "name": "stdout",
     "output_type": "stream",
     "text": [
      "5 23\n"
     ]
    }
   ],
   "source": [
    "# 哈希 复杂度为O(n), 但是需要较大的哈希空间\n",
    "a = list(map(int, input().split()))\n",
    "m = int(input())\n",
    "s = set(a)\n",
    "outed = set()\n",
    "for item in s:\n",
    "    if m - item in s and item not in outed:\n",
    "        print(item, m - item)\n",
    "        outed.add(m-item)"
   ]
  },
  {
   "cell_type": "code",
   "execution_count": 3,
   "metadata": {},
   "outputs": [
    {
     "name": "stdout",
     "output_type": "stream",
     "text": [
      "5 23\n"
     ]
    }
   ],
   "source": [
    "# 尺取法 复杂度为O(n log_2^n), 其中, 排序的复杂度为O(log_2^n), 检查的复杂度为O(n)\n",
    "a = list(map(int, input().split()))\n",
    "a.sort()\n",
    "m = int(input())\n",
    "\n",
    "# 双指针\n",
    "i, j = 0, len(a) - 1\n",
    "while (i < j):\n",
    "    s = a[i] + a[j]\n",
    "    # s < m: i增加1, 之后的s>=当前s\n",
    "    if s < m:\n",
    "        i += 1\n",
    "    elif s > m:\n",
    "        j -= 1\n",
    "    else:\n",
    "        print(\"{} {}\".format(a[i], a[j]))\n",
    "        i += 1"
   ]
  },
  {
   "cell_type": "code",
   "execution_count": 4,
   "metadata": {},
   "outputs": [
    {
     "name": "stdout",
     "output_type": "stream",
     "text": [
      "yes\n",
      "no\n"
     ]
    }
   ],
   "source": [
    "n = int(input())\n",
    "for i in range(n):\n",
    "    s = str(input())\n",
    "    i, j = 0, len(s) - 1\n",
    "    while i < j:\n",
    "        flag = False\n",
    "        if s[i] == s[j]:\n",
    "            flag = True\n",
    "        else:\n",
    "            flag = False\n",
    "            break\n",
    "        i += 1\n",
    "        j -= 1\n",
    "    if (flag):\n",
    "        print('yes')\n",
    "    else:\n",
    "        print('no')"
   ]
  },
  {
   "cell_type": "code",
   "execution_count": 6,
   "metadata": {},
   "outputs": [
    {
     "name": "stdout",
     "output_type": "stream",
     "text": [
      "0 0\n",
      "1 3\n",
      "5 5\n",
      "6 7\n"
     ]
    }
   ],
   "source": [
    "n = int(input())\n",
    "a = list(map(int, input().split()))\n",
    "s = int(input())\n",
    "\n",
    "sum = a[0]\n",
    "i, j = 0, 0\n",
    "while i < n and j < n:\n",
    "    if sum == s:\n",
    "        print(\"{} {}\".format(i, j))\n",
    "        sum -= a[i]\n",
    "        i += 1\n",
    "        j += 1\n",
    "        sum += a[j]\n",
    "    elif sum < s:\n",
    "        j += 1\n",
    "        sum += a[j]\n",
    "    elif sum > s:\n",
    "        sum -= a[i]\n",
    "        i += 1"
   ]
  },
  {
   "cell_type": "code",
   "execution_count": 8,
   "metadata": {},
   "outputs": [
    {
     "name": "stdout",
     "output_type": "stream",
     "text": [
      "[1, 2, 3, 4, 5, 7, 8, 9]\n"
     ]
    }
   ],
   "source": [
    "# 哈希, 数据多或者数值过大时需要占用大量的空间\n",
    "a = list(map(int, input().split()))\n",
    "s = set(a)\n",
    "unique_a = list(s)\n",
    "print(unique_a)"
   ]
  },
  {
   "cell_type": "code",
   "execution_count": 10,
   "metadata": {},
   "outputs": [
    {
     "name": "stdout",
     "output_type": "stream",
     "text": [
      "[1, 2, 3, 4, 5, 7, 8, 9]\n"
     ]
    }
   ],
   "source": [
    "# 尺取法\n",
    "a = list(map(int, input().split()))\n",
    "# a排序, 使得相同元素排列在一起\n",
    "a.sort()\n",
    "n = len(a)\n",
    "# 双指针均从0开始\n",
    "i, j = 0, 0\n",
    "# j始终指向无重复元素部分的最后一个元素\n",
    "while i < n and j < n:\n",
    "    # 若i和j指向的元素不同, j++, 将i指向的元素复制到j上\n",
    "    # EX: 1 2(j) 3(i) 3\n",
    "    # ->  1 2 3(j, i) 3\n",
    "    # EX: 1 2 3(j) 3 4(i) \n",
    "    # ->  1 2 3 3(j) 4(i)\n",
    "    # ->  1 2 3 4(j) 4(i)\n",
    "    if a[i] != a[j]:\n",
    "        j += 1\n",
    "        a[j] = a[i]\n",
    "    i += 1\n",
    "unique_a = a[0:j+1]\n",
    "print(unique_a)"
   ]
  },
  {
   "cell_type": "code",
   "execution_count": 7,
   "metadata": {},
   "outputs": [
    {
     "name": "stdout",
     "output_type": "stream",
     "text": [
      "5\n"
     ]
    }
   ],
   "source": [
    "n, c = map(int, input().split())\n",
    "a = list(map(int, input().split()))\n",
    "a.sort()\n",
    "\n",
    "i, j, k = 0, 0, 0\n",
    "ans = 0\n",
    "\n",
    "for i in range(n):\n",
    "    # j, k指向相同元素区间的起点和终点后1个元素\n",
    "    # 寻找的对象是区间内的元素 - a[i] = C\n",
    "    while j < n - 1 and a[j] - a[i] < c:\n",
    "        j += 1\n",
    "    while k < n and a[k] - a[i] <= c:\n",
    "        k += 1\n",
    "    if a[j] - a[i] == c and a[k-1] - a[i] == c and k - 1 >= 0:\n",
    "        ans += k - j\n",
    "print(ans)"
   ]
  }
 ],
 "metadata": {
  "kernelspec": {
   "display_name": "Python 3",
   "language": "python",
   "name": "python3"
  },
  "language_info": {
   "codemirror_mode": {
    "name": "ipython",
    "version": 3
   },
   "file_extension": ".py",
   "mimetype": "text/x-python",
   "name": "python",
   "nbconvert_exporter": "python",
   "pygments_lexer": "ipython3",
   "version": "3.10.12"
  }
 },
 "nbformat": 4,
 "nbformat_minor": 2
}
