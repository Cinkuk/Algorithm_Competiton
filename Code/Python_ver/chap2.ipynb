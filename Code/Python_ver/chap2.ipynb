{
 "cells": [
  {
   "cell_type": "code",
   "execution_count": 2,
   "metadata": {},
   "outputs": [
    {
     "name": "stdout",
     "output_type": "stream",
     "text": [
      "5 23\n"
     ]
    }
   ],
   "source": [
    "# 哈希 复杂度为O(n), 但是需要较大的哈希空间\n",
    "a = list(map(int, input().split()))\n",
    "m = int(input())\n",
    "s = set(a)\n",
    "outed = set()\n",
    "for item in s:\n",
    "    if m - item in s and item not in outed:\n",
    "        print(item, m - item)\n",
    "        outed.add(m-item)"
   ]
  },
  {
   "cell_type": "code",
   "execution_count": 3,
   "metadata": {},
   "outputs": [
    {
     "name": "stdout",
     "output_type": "stream",
     "text": [
      "5 23\n"
     ]
    }
   ],
   "source": [
    "# 尺取法 复杂度为O(n log_2^n), 其中, 排序的复杂度为O(log_2^n), 检查的复杂度为O(n)\n",
    "a = list(map(int, input().split()))\n",
    "a.sort()\n",
    "m = int(input())\n",
    "\n",
    "# 双指针\n",
    "i, j = 0, len(a) - 1\n",
    "while (i < j):\n",
    "    s = a[i] + a[j]\n",
    "    # s < m: i增加1, 之后的s>=当前s\n",
    "    if s < m:\n",
    "        i += 1\n",
    "    elif s > m:\n",
    "        j -= 1\n",
    "    else:\n",
    "        print(\"{} {}\".format(a[i], a[j]))\n",
    "        i += 1"
   ]
  },
  {
   "cell_type": "code",
   "execution_count": 4,
   "metadata": {},
   "outputs": [
    {
     "name": "stdout",
     "output_type": "stream",
     "text": [
      "yes\n",
      "no\n"
     ]
    }
   ],
   "source": [
    "n = int(input())\n",
    "for i in range(n):\n",
    "    s = str(input())\n",
    "    i, j = 0, len(s) - 1\n",
    "    while i < j:\n",
    "        flag = False\n",
    "        if s[i] == s[j]:\n",
    "            flag = True\n",
    "        else:\n",
    "            flag = False\n",
    "            break\n",
    "        i += 1\n",
    "        j -= 1\n",
    "    if (flag):\n",
    "        print('yes')\n",
    "    else:\n",
    "        print('no')"
   ]
  },
  {
   "cell_type": "code",
   "execution_count": 6,
   "metadata": {},
   "outputs": [
    {
     "name": "stdout",
     "output_type": "stream",
     "text": [
      "0 0\n",
      "1 3\n",
      "5 5\n",
      "6 7\n"
     ]
    }
   ],
   "source": [
    "n = int(input())\n",
    "a = list(map(int, input().split()))\n",
    "s = int(input())\n",
    "\n",
    "sum = a[0]\n",
    "i, j = 0, 0\n",
    "while i < n and j < n:\n",
    "    if sum == s:\n",
    "        print(\"{} {}\".format(i, j))\n",
    "        sum -= a[i]\n",
    "        i += 1\n",
    "        j += 1\n",
    "        sum += a[j]\n",
    "    elif sum < s:\n",
    "        j += 1\n",
    "        sum += a[j]\n",
    "    elif sum > s:\n",
    "        sum -= a[i]\n",
    "        i += 1"
   ]
  },
  {
   "cell_type": "code",
   "execution_count": 8,
   "metadata": {},
   "outputs": [
    {
     "name": "stdout",
     "output_type": "stream",
     "text": [
      "[1, 2, 3, 4, 5, 7, 8, 9]\n"
     ]
    }
   ],
   "source": [
    "# 哈希, 数据多或者数值过大时需要占用大量的空间\n",
    "a = list(map(int, input().split()))\n",
    "s = set(a)\n",
    "unique_a = list(s)\n",
    "print(unique_a)"
   ]
  },
  {
   "cell_type": "code",
   "execution_count": 10,
   "metadata": {},
   "outputs": [
    {
     "name": "stdout",
     "output_type": "stream",
     "text": [
      "[1, 2, 3, 4, 5, 7, 8, 9]\n"
     ]
    }
   ],
   "source": [
    "# 尺取法\n",
    "a = list(map(int, input().split()))\n",
    "# a排序, 使得相同元素排列在一起\n",
    "a.sort()\n",
    "n = len(a)\n",
    "# 双指针均从0开始\n",
    "i, j = 0, 0\n",
    "# j始终指向无重复元素部分的最后一个元素\n",
    "while i < n and j < n:\n",
    "    # 若i和j指向的元素不同, j++, 将i指向的元素复制到j上\n",
    "    # EX: 1 2(j) 3(i) 3\n",
    "    # ->  1 2 3(j, i) 3\n",
    "    # EX: 1 2 3(j) 3 4(i) \n",
    "    # ->  1 2 3 3(j) 4(i)\n",
    "    # ->  1 2 3 4(j) 4(i)\n",
    "    if a[i] != a[j]:\n",
    "        j += 1\n",
    "        a[j] = a[i]\n",
    "    i += 1\n",
    "unique_a = a[0:j+1]\n",
    "print(unique_a)"
   ]
  },
  {
   "cell_type": "code",
   "execution_count": 7,
   "metadata": {},
   "outputs": [
    {
     "name": "stdout",
     "output_type": "stream",
     "text": [
      "5\n"
     ]
    }
   ],
   "source": [
    "n, c = map(int, input().split())\n",
    "a = list(map(int, input().split()))\n",
    "a.sort()\n",
    "\n",
    "i, j, k = 0, 0, 0\n",
    "ans = 0\n",
    "\n",
    "for i in range(n):\n",
    "    # j, k指向相同元素区间的起点和终点后1个元素\n",
    "    # 寻找的对象是区间内的元素 - a[i] = C\n",
    "    while j < n - 1 and a[j] - a[i] < c:\n",
    "        j += 1\n",
    "    while k < n and a[k] - a[i] <= c:\n",
    "        k += 1\n",
    "    if a[j] - a[i] == c and a[k-1] - a[i] == c and k - 1 >= 0:\n",
    "        ans += k - j\n",
    "print(ans)"
   ]
  },
  {
   "cell_type": "code",
   "execution_count": 3,
   "metadata": {},
   "outputs": [
    {
     "name": "stdout",
     "output_type": "stream",
     "text": [
      "6 266\n",
      "4 264\n",
      "3 258\n",
      "2 244\n",
      "1 237\n"
     ]
    }
   ],
   "source": [
    "# 洛谷P1093\n",
    "\n",
    "# 自定义比较函数 cmp -> key\n",
    "# x: (id, c, m, e, sum)\n",
    "# Input: x, y\n",
    "# Output:\n",
    "# 1: x > y; 0: x = y; -1: x < y\n",
    "from functools import cmp_to_key\n",
    "def cmp(x, y):\n",
    "    if x[4] > y[4]:\n",
    "        return 10\n",
    "    elif x[4] < y[4]:\n",
    "        return -1\n",
    "    else:\n",
    "        if x[1] > y[1]:\n",
    "            return 1\n",
    "        elif x[1] < y[1]:\n",
    "            return -1\n",
    "        else:\n",
    "            if x[0] < y[0]:\n",
    "                return 1\n",
    "            else:\n",
    "                return -1\n",
    "sort_key = cmp_to_key(cmp)\n",
    "\n",
    "n = int(input())\n",
    "stu = []\n",
    "for id in range(1, n+1):\n",
    "    c, m, e = map(int, input().split())\n",
    "    summ = c + m + e\n",
    "    stu.append([id, c, m, e, summ])\n",
    "rst = sorted(stu, key=sort_key, reverse=True)\n",
    "for i in range(5):\n",
    "    print('{} {}'.format(rst[i][0], rst[i][-1]))"
   ]
  },
  {
   "cell_type": "code",
   "execution_count": null,
   "metadata": {},
   "outputs": [
    {
     "name": "stdout",
     "output_type": "stream",
     "text": [
      "64\n"
     ]
    }
   ],
   "source": [
    "# 蓝桥杯2016省赛C++A组第6题\n",
    "\n",
    "a = [1, 2, 3, 4, 5, 6, 7, 8, 9, 10, 11, 12, 13]\n",
    "n = len(a)\n",
    "vis = [False] * n\n",
    "b = [None] * n\n",
    "ans = 0\n",
    "\n",
    "def permu(s, t):\n",
    "    global ans\n",
    "    # 输出\n",
    "    if s == 12 and b[9] == b[10] * b[11]:\n",
    "        ans += 1\n",
    "        return\n",
    "    # 剪枝\n",
    "    if s == 3 and b[0] + b[1] != b[2]:\n",
    "        return\n",
    "    if s == 6 and b[3] - b[4] != b[5]:\n",
    "        return\n",
    "    if s == 9 and b[6] * b[7] != b[8]:\n",
    "        return\n",
    "    # 全排列\n",
    "    for i in range(t):\n",
    "        if not vis[i]:\n",
    "            vis[i] = True\n",
    "            b[s] = a[i]\n",
    "            permu(s+1, t)\n",
    "            vis[i] = False\n",
    "\n",
    "permu(0, n)\n",
    "print(ans)"
   ]
  },
  {
   "cell_type": "code",
   "execution_count": 1,
   "metadata": {},
   "outputs": [
    {
     "name": "stdout",
     "output_type": "stream",
     "text": [
      "#2: A->B\n",
      "7\n"
     ]
    }
   ],
   "source": [
    "step = 0\n",
    "n, m = map(int, input().split())\n",
    "\n",
    "def hanoi(x, y, z, n):\n",
    "    global step, m\n",
    "    if n == 1:\n",
    "        step += 1\n",
    "        if step == m:\n",
    "            print('#{}: {}->{}'.format(m, x, z))\n",
    "    else:\n",
    "        hanoi(x, z, y, n-1)\n",
    "        step += 1\n",
    "        if step == m:\n",
    "            print('#{}: {}->{}'.format(m, x, z))\n",
    "        hanoi(y, x, z, n-1)\n",
    "\n",
    "hanoi('A', 'B', 'C', n)\n",
    "print(step)"
   ]
  },
  {
   "cell_type": "code",
   "execution_count": 4,
   "metadata": {},
   "outputs": [
    {
     "name": "stdout",
     "output_type": "stream",
     "text": [
      "1\n"
     ]
    }
   ],
   "source": [
    "# hdu 4911\n",
    "\n",
    "n, k = map(int, input().split())\n",
    "a = list(map(int, input().split()))\n",
    "count = 0\n",
    "b = [0]*10000\n",
    "\n",
    "def merge(l, mid, r):\n",
    "    global count, a, b\n",
    "    i, j = l, mid+1\n",
    "    t = 0\n",
    "    while i <= mid and j <= r:\n",
    "        if a[i] > a[j]:\n",
    "            b[t] = a[j]\n",
    "            t, j = t+1, j+1\n",
    "            count += mid - i + 1\n",
    "        else:\n",
    "            b[t] = a[i]\n",
    "            t, i = t+1, i+1\n",
    "    while i <= mid:\n",
    "        b[t] = a[i]\n",
    "        t, i = t+1, i+1\n",
    "    while j <= r:\n",
    "        b[t] = a[j]\n",
    "        t, j = t+1, j+1\n",
    "    for i in range(t):\n",
    "        a[l+i] = b[i]\n",
    "\n",
    "def merge_sort(l, r):\n",
    "    if l < r:\n",
    "        mid = (l + r) // 2\n",
    "        merge_sort(l, mid)\n",
    "        merge_sort(mid+1, r)\n",
    "        merge(l, mid, r)\n",
    "\n",
    "merge_sort(0, len(a)-1)\n",
    "if count <= k:\n",
    "    print(0)\n",
    "else:\n",
    "    print(count - k)"
   ]
  }
 ],
 "metadata": {
  "kernelspec": {
   "display_name": "Python 3",
   "language": "python",
   "name": "python3"
  },
  "language_info": {
   "codemirror_mode": {
    "name": "ipython",
    "version": 3
   },
   "file_extension": ".py",
   "mimetype": "text/x-python",
   "name": "python",
   "nbconvert_exporter": "python",
   "pygments_lexer": "ipython3",
   "version": "3.12.9"
  }
 },
 "nbformat": 4,
 "nbformat_minor": 2
}
